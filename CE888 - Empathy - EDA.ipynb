{
 "cells": [
  {
   "cell_type": "markdown",
   "id": "4e4729f9",
   "metadata": {},
   "source": [
    "## CE888 - 2204809"
   ]
  },
  {
   "cell_type": "markdown",
   "id": "ca1e5099",
   "metadata": {},
   "source": [
    "### AN EYE FOR EMPATHY - INVESTIGATION OF ASSESSMENT OF EMPATHY USING EYE TRACKING DATA"
   ]
  },
  {
   "cell_type": "code",
   "execution_count": null,
   "id": "9a148159",
   "metadata": {},
   "outputs": [],
   "source": [
    "import pandas as pd\n",
    "import numpy as np\n",
    "pd.set_option('display.max_columns', None)\n",
    "pd.set_option('display.max_rows', 10)\n",
    "np.set_printoptions(precision = 3)\n",
    "import matplotlib.pyplot as plt\n",
    "%matplotlib inline \n",
    "import seaborn as sns"
   ]
  },
  {
   "cell_type": "code",
   "execution_count": null,
   "id": "2955f659",
   "metadata": {},
   "outputs": [],
   "source": [
    "### Reading and merging the EyeT dataset into a dictionary of dataframes \n",
    "\n",
    "par2_t0 = pd.read_csv(r\"C:\\Users\\vk22372\\EyeT\\EyeT_group_dataset_II_image_name_grey_blue_participant_2_trial_0.csv\", index_col = 'Unnamed: 0')\n",
    "par12_t0 = pd.read_csv(r\"C:\\Users\\vk22372\\EyeT\\EyeT_group_dataset_II_image_name_grey_orange_participant_12_trial_0.csv\", index_col = 'Unnamed: 0')\n",
    "par1_t0 = pd.read_csv(r\"C:\\Users\\vk22372\\EyeT\\EyeT_group_dataset_III_image_name_letter_card_participant_1_trial_0.csv\", index_col = 'Unnamed: 0')\n"
   ]
  },
  {
   "cell_type": "code",
   "execution_count": null,
   "id": "17646f9f",
   "metadata": {},
   "outputs": [],
   "source": [
    "par2_t0.info()"
   ]
  },
  {
   "cell_type": "code",
   "execution_count": null,
   "id": "3f29fd1e",
   "metadata": {},
   "outputs": [],
   "source": [
    "par12_t0.info()"
   ]
  },
  {
   "cell_type": "code",
   "execution_count": null,
   "id": "7952dead",
   "metadata": {},
   "outputs": [],
   "source": [
    "par1_t0.info()"
   ]
  },
  {
   "cell_type": "code",
   "execution_count": null,
   "id": "aaf0c68e",
   "metadata": {},
   "outputs": [],
   "source": [
    "dfs = [par1_t0, par12_t0, par1_t0]\n",
    "demo_data = pd.concat(dfs)\n",
    "demo_data.head()"
   ]
  },
  {
   "cell_type": "code",
   "execution_count": null,
   "id": "645a7cfe",
   "metadata": {},
   "outputs": [],
   "source": [
    "#Computer timestamp: The timestamps that uniquely identify a recording and which can later be used to analyse data, hence we are retaining this column.\n",
    "#Recorded timestamp: Gives similar data as the computer timestamp column, hence we will be deleting this column.\n",
    "#Sensor type\n",
    "demo_data['Sensor'].value_counts()"
   ]
  },
  {
   "cell_type": "markdown",
   "id": "97702f88",
   "metadata": {},
   "source": [
    "'Sensor type' just shows what sensor was used to collect that particular data, it should not matter when we are compressing the data of the trials into one row."
   ]
  },
  {
   "cell_type": "code",
   "execution_count": null,
   "id": "837d53c7",
   "metadata": {},
   "outputs": [],
   "source": [
    "#Project name\n",
    "demo_data['Project name'].value_counts()\n",
    "\n",
    "'Project name' will be removed as the number of the participant already gives the information about the experiment group. \n",
    "\n",
    "'Participant name' and 'Recording name' will be retained as identifiers during analysis and dropped during modelling. "
   ]
  },
  {
   "cell_type": "code",
   "execution_count": null,
   "id": "53f56c89",
   "metadata": {},
   "outputs": [],
   "source": [
    "#'Export date', 'Recording date', 'Recording date UTC', 'Recording start time', 'Recording start time UTC', 'Recording duration', 'Timeline name', 'Recording Fixation filter name', 'Recording software version' will be dropped as the data does not affect the target in any way.\n",
    "demo_data['Recording resolution height'].value_counts()"
   ]
  },
  {
   "cell_type": "code",
   "execution_count": null,
   "id": "df5531d9",
   "metadata": {},
   "outputs": [],
   "source": [
    "demo_data['Recording resolution width'].value_counts()"
   ]
  },
  {
   "cell_type": "code",
   "execution_count": null,
   "id": "e7161262",
   "metadata": {},
   "outputs": [],
   "source": [
    "demo_data['Recording monitor latency'].value_counts()"
   ]
  },
  {
   "cell_type": "markdown",
   "id": "290393ba",
   "metadata": {},
   "source": [
    "'Recording resolution height', 'Recording resolution width', 'Recording monitor latency' all have the same value as we can observe above, hence even these features will be dropped."
   ]
  },
  {
   "cell_type": "code",
   "execution_count": null,
   "id": "de446e53",
   "metadata": {},
   "outputs": [],
   "source": [
    "#Event\n",
    "demo_data['Event'].value_counts()"
   ]
  },
  {
   "cell_type": "markdown",
   "id": "29e444bc",
   "metadata": {},
   "source": [
    "'Event' and 'Event value' will be removed as the data is getting compressed only wrt each trials and each participants\n"
   ]
  },
  {
   "cell_type": "code",
   "execution_count": null,
   "id": "687192d8",
   "metadata": {},
   "outputs": [],
   "source": [
    "#Presented Stimulus name\n",
    "demo_data['Presented Stimulus name'].value_counts()\n"
   ]
  },
  {
   "cell_type": "markdown",
   "id": "3cb810db",
   "metadata": {},
   "source": [
    "'Presented stimulus name' and 'Presented Media name' will be dropped as it does not give any new information.\n",
    "\n",
    "'Presented Media height', 'Presented Media width', 'Presented Media position X', 'Presented Media position Y', 'Original Media width', 'Original Media height'- these features will also be dropped as they are not providing any vital information wrt the target."
   ]
  },
  {
   "cell_type": "code",
   "execution_count": null,
   "id": "6caceda8",
   "metadata": {},
   "outputs": [],
   "source": [
    "#Eye movement type\n",
    "demo_data['Eye movement type'].value_counts()"
   ]
  },
  {
   "cell_type": "markdown",
   "id": "a9d43889",
   "metadata": {},
   "source": [
    "'Eye movement type' will be an important feature because the number of occurances of fixation, saccade and unclassified might play a part towards our target variable. Here, EyesNotFound will also be classified as Unclassified as they mean the same with respect to a predictive model."
   ]
  },
  {
   "cell_type": "code",
   "execution_count": null,
   "id": "449f7a0d",
   "metadata": {},
   "outputs": [],
   "source": [
    "#Gaze event duration\n",
    "sns.distplot(demo_data['Gaze event duration'])\n"
   ]
  },
  {
   "cell_type": "markdown",
   "id": "741f02fa",
   "metadata": {},
   "source": [
    "'Gaze event duration' as we can observe is a highly right-skewed distribution. It will be retained to see how it affects the empathy score."
   ]
  },
  {
   "cell_type": "code",
   "execution_count": null,
   "id": "6153d68c",
   "metadata": {},
   "outputs": [],
   "source": [
    "#Gaze point X and Gaze point Y\n",
    "demo_data['Gaze point X'], demo_data['Gaze point Y']\n"
   ]
  },
  {
   "cell_type": "markdown",
   "id": "fb079311",
   "metadata": {},
   "source": [
    "'Gaze point X' is the mean of the columns 'Gaze point left X' and 'Gaze point right X'. 'Gaze point Y' is the mean of the columns 'Gaze point left Y' and 'Gaze point right Y'. Hence, the columns 'Gaze point left X' ,'Gaze point right X', 'Gaze point left Y' and 'Gaze point right Y' can be dropped as that information is covered.\n",
    "\n",
    "In the current approach, the data will be merged to have one row per trial of each participant. Hence, we are deleting the columns that have a DASC and MCS coordinate system data. \n",
    "\n",
    "'Pupil diameter left' and 'Pupil diameter right' will be rretained as they are important indicators of empathy. \n"
   ]
  },
  {
   "cell_type": "markdown",
   "id": "18466301",
   "metadata": {},
   "source": [
    "#### After analysis, the columns we will be retaining are \"Computer timestamp\", \"Participant name\", 'Recording name','Gaze point X','Gaze point Y', 'Pupil diameter left', 'Pupil diameter right', 'Eye movement type', 'Gaze event duration', 'Eye movement type index'. Only these columns will be imported from the entire dataset for all the participants."
   ]
  },
  {
   "cell_type": "code",
   "execution_count": null,
   "id": "e0322e4d",
   "metadata": {},
   "outputs": [],
   "source": []
  }
 ],
 "metadata": {
  "kernelspec": {
   "display_name": "Python 3 (ipykernel)",
   "language": "python",
   "name": "python3"
  },
  "language_info": {
   "codemirror_mode": {
    "name": "ipython",
    "version": 3
   },
   "file_extension": ".py",
   "mimetype": "text/x-python",
   "name": "python",
   "nbconvert_exporter": "python",
   "pygments_lexer": "ipython3",
   "version": "3.9.12"
  }
 },
 "nbformat": 4,
 "nbformat_minor": 5
}
